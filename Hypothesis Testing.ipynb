{
 "cells": [
  {
   "cell_type": "code",
   "execution_count": 18,
   "id": "diverse-indonesian",
   "metadata": {},
   "outputs": [],
   "source": [
    "\n",
    "#One- Sample -T-test"
   ]
  },
  {
   "cell_type": "code",
   "execution_count": 19,
   "id": "japanese-anthony",
   "metadata": {},
   "outputs": [],
   "source": [
    "%matplotlib inline\n",
    "import numpy as np\n",
    "import pandas as pd\n",
    "import scipy.stats as stats\n",
    "import matplotlib.pyplot as plt\n",
    "import math"
   ]
  },
  {
   "cell_type": "code",
   "execution_count": 20,
   "id": "headed-musical",
   "metadata": {},
   "outputs": [
    {
     "name": "stdout",
     "output_type": "stream",
     "text": [
      "52.200792\n",
      "36.125\n"
     ]
    }
   ],
   "source": [
    "np.random.seed(6)\n",
    "population_ages_1=stats.poisson.rvs(loc=18,mu=35,size=150000)\n",
    "population_ages_2=stats.poisson.rvs(loc=18,mu=33,size=100000)\n",
    "population_ages=np.concatenate((population_ages_1,population_ages_2))\n",
    "\n",
    "\n",
    "minnesota_ages_1=stats.poisson.rvs(loc=18,mu=30,size=10)\n",
    "minnesota_ages_2=stats.poisson.rvs(loc=18,mu=15,size=30)\n",
    "minnesota_ages=np.concatenate((minnesota_ages_1,minnesota_ages_2))\n",
    "\n",
    "print(population_ages.mean())\n",
    "print(minnesota_ages.mean())\n",
    "\n",
    "\n"
   ]
  },
  {
   "cell_type": "code",
   "execution_count": 21,
   "id": "radio-batman",
   "metadata": {},
   "outputs": [],
   "source": [
    " _,p_value=stats.ttest_1samp(a=minnesota_ages,popmean=population_ages.mean())"
   ]
  },
  {
   "cell_type": "code",
   "execution_count": 22,
   "id": "looking-hostel",
   "metadata": {},
   "outputs": [
    {
     "name": "stdout",
     "output_type": "stream",
     "text": [
      "accept the alternative hypothesis\n"
     ]
    }
   ],
   "source": [
    "if p_value<0.05:\n",
    "    print(\"accept the alternative hypothesis\")\n",
    "else:\n",
    "    print(\"accept the null hypothesis\")"
   ]
  },
  {
   "cell_type": "code",
   "execution_count": 25,
   "id": "experienced-annual",
   "metadata": {},
   "outputs": [
    {
     "data": {
      "text/plain": [
       "(33.67761497540066, 38.57238502459934)"
      ]
     },
     "execution_count": 25,
     "metadata": {},
     "output_type": "execute_result"
    }
   ],
   "source": [
    "confidence_level=0.95\n",
    "degree_freedom=49\n",
    "sigma=minnesota_ages.std()/math.sqrt(50)\n",
    "stats.t.interval(0.95,df=49,loc=minnesota_ages.mean(),scale=sigma)# building the confidence interval"
   ]
  },
  {
   "cell_type": "code",
   "execution_count": 26,
   "id": "synthetic-glance",
   "metadata": {},
   "outputs": [
    {
     "data": {
      "text/plain": [
       "(33.67761497540066, 38.57238502459934)"
      ]
     },
     "execution_count": 26,
     "metadata": {},
     "output_type": "execute_result"
    }
   ],
   "source": [
    "confidence_level=0.99\n",
    "degree_freedom=49\n",
    "sigma=minnesota_ages.std()/math.sqrt(50)\n",
    "stats.t.interval(0.95,df=49,loc=minnesota_ages.mean(),scale=sigma)# building the confidence interval"
   ]
  },
  {
   "cell_type": "code",
   "execution_count": 27,
   "id": "banner-integer",
   "metadata": {},
   "outputs": [],
   "source": [
    "loc=minnesota_ages.mean()"
   ]
  },
  {
   "cell_type": "code",
   "execution_count": 29,
   "id": "continental-vanilla",
   "metadata": {},
   "outputs": [],
   "source": [
    "#two sample t-test"
   ]
  },
  {
   "cell_type": "code",
   "execution_count": 31,
   "id": "bronze-engine",
   "metadata": {},
   "outputs": [
    {
     "name": "stdout",
     "output_type": "stream",
     "text": [
      "42.8\n"
     ]
    }
   ],
   "source": [
    "np.random.seed(12)\n",
    "wisconsin_ages_1=stats.poisson.rvs(loc=18,mu=33,size=30)\n",
    "wisconsin_ages_2=stats.poisson.rvs(loc=18,mu=13,size=20)\n",
    "wisconsin_ages=np.concatenate((wisconsin_ages_1,wisconsin_ages_2))\n",
    "print(wisconsin_ages.mean())"
   ]
  },
  {
   "cell_type": "code",
   "execution_count": 32,
   "id": "vocational-nelson",
   "metadata": {},
   "outputs": [
    {
     "data": {
      "text/plain": [
       "Ttest_indResult(statistic=-3.3028452199002873, pvalue=0.0013856369815138801)"
      ]
     },
     "execution_count": 32,
     "metadata": {},
     "output_type": "execute_result"
    }
   ],
   "source": [
    "stats.ttest_ind(a=minnesota_ages,b=wisconsin_ages,equal_var=False)"
   ]
  },
  {
   "cell_type": "code",
   "execution_count": 33,
   "id": "abstract-oracle",
   "metadata": {},
   "outputs": [],
   "source": [
    "# here the pvalue indicates there is a 1.3% chance that the two groups are identical and we accept the alternative hypothesis as the percentage is less than significant level of 5%"
   ]
  },
  {
   "cell_type": "code",
   "execution_count": null,
   "id": "destroyed-indicator",
   "metadata": {},
   "outputs": [],
   "source": []
  }
 ],
 "metadata": {
  "kernelspec": {
   "display_name": "Python 3",
   "language": "python",
   "name": "python3"
  },
  "language_info": {
   "codemirror_mode": {
    "name": "ipython",
    "version": 3
   },
   "file_extension": ".py",
   "mimetype": "text/x-python",
   "name": "python",
   "nbconvert_exporter": "python",
   "pygments_lexer": "ipython3",
   "version": "3.9.2"
  }
 },
 "nbformat": 4,
 "nbformat_minor": 5
}
